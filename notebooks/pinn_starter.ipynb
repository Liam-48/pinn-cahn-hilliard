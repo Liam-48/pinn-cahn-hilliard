{
 "cells": [
  {
   "cell_type": "markdown",
   "id": "323faebb",
   "metadata": {},
   "source": [
    "# PINN for Three-Phase Cahn-Hilliard\n",
    "Initial notes and experiments."
   ]
  },
  {
   "cell_type": "markdown",
   "id": "4a18b489",
   "metadata": {},
   "source": []
  }
 ],
 "metadata": {
  "language_info": {
   "name": "python"
  }
 },
 "nbformat": 4,
 "nbformat_minor": 5
}
